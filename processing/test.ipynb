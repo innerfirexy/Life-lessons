{
 "cells": [
  {
   "cell_type": "code",
   "execution_count": 36,
   "metadata": {
    "collapsed": true
   },
   "outputs": [],
   "source": [
    "import numpy as np\n",
    "import pandas as pd\n",
    "import pickle\n",
    "import glob\n",
    "from tqdm import notebook"
   ]
  },
  {
   "cell_type": "code",
   "execution_count": 42,
   "outputs": [],
   "source": [
    "def get_labels(data_list, N = 3, hw_ratio = 720/1280, return_type = 'list', return_grids = False):\n",
    "    \"\"\"\n",
    "    data_list: list[tuple], in which tuple[0] is the frame_idx, tuple[1] is a (33,3) np array\n",
    "    grid: int, number of grids. E.g., grid = 3 results in a 3 by 3 split\n",
    "    return_type: 'list' | 'df'\n",
    "    \"\"\"\n",
    "    assert isinstance(data_list, list)\n",
    "\n",
    "    results = []\n",
    "    grids = []\n",
    "    for frame_idx, data in data_list:\n",
    "        nose_x = data[0][0]\n",
    "        l_shoulder_x = data[11][0]\n",
    "        r_shoulder_x = data[12][0]\n",
    "        l_hip_x = data[23][0]\n",
    "        r_hip_x = data[24][0]\n",
    "\n",
    "        # y1, y2 = 0.001, 0.999 # This is the simplest method\n",
    "        l_eye_y = data[2][1]\n",
    "        r_eye_y = data[5][1]\n",
    "        mid_eye_y = (l_eye_y + r_eye_y) / 2\n",
    "        nose_y = data[0][1]\n",
    "        nose_eye_diff = nose_y - mid_eye_y\n",
    "        y1 = max(0.001, mid_eye_y - nose_eye_diff * 2) # x2 because: https://www.artyfactory.com/portraits/pencil-portraits/proportions-of-a-head.html\n",
    "        l_hip_y = data[23][1]\n",
    "        r_hip_y = data[24][1]\n",
    "        mid_hip_y = (l_hip_y + r_hip_y) / 2\n",
    "        y2 = min(0.999, mid_hip_y)\n",
    "\n",
    "        grids_height = y2 - y1\n",
    "        grids_width = grids_height * hw_ratio # normalized by hw_ratio\n",
    "\n",
    "        xc = (nose_x + (l_shoulder_x + r_shoulder_x)/2 + (l_hip_x + r_hip_x)/2) / 3\n",
    "        # print(xc)\n",
    "        x1 = xc - 0.5 * grids_width + 0.001\n",
    "        x2 = xc + 0.5 * grids_width - 0.001\n",
    "        if x1 <= 0.0 or x2 >= 1.0:\n",
    "            results.append((frame_idx, None, None, None))\n",
    "            grids.append((frame_idx, None))\n",
    "            continue\n",
    "\n",
    "\n",
    "        # Compute grids for current frame\n",
    "        if return_grids:\n",
    "            cur_grid = [x1]\n",
    "            for i in range(1,N):\n",
    "                cur_grid.append(x1 + (x2-x1) * i/N)\n",
    "            cur_grid.append(x2)\n",
    "            cur_grid.append(y1)\n",
    "            for j in range(1,N):\n",
    "                cur_grid.append(y1 + (y2-y1) * j/N)\n",
    "            cur_grid.append(y2)\n",
    "            grids.append((frame_idx, tuple(cur_grid)))\n",
    "\n",
    "        # l_wrist_x, l_wrist_y = data[15][0], data[15][1]\n",
    "        # r_wrist_x, r_wrist_y = data[16][0], data[16][1]\n",
    "        l_pinky_x, l_pinky_y = data[17][0], data[17][1]\n",
    "        r_pinky_x, r_pinky_y = data[18][0], data[18][1]\n",
    "        l_index_x, l_index_y = data[19][0], data[19][1]\n",
    "        r_index_x, r_index_y = data[20][0], data[20][1]\n",
    "        l_thumb_x, l_thumb_y = data[21][0], data[21][1]\n",
    "        r_thumb_x, r_thumb_y = data[22][0], data[22][1]\n",
    "        l_hand_x = (l_pinky_x + l_index_x + l_thumb_x) / 3\n",
    "        l_hand_y = (l_pinky_y + l_index_y + l_thumb_y) / 3\n",
    "        r_hand_x = (r_pinky_x + r_index_x + r_thumb_x) / 3\n",
    "        r_hand_y = (r_pinky_y + r_index_y + r_thumb_y) / 3\n",
    "\n",
    "        l_col = np.floor(min(max(l_hand_x - x1, 0), x2-x1) / grids_width * N) + 1\n",
    "        r_col = np.floor(min(max(r_hand_x - x1, 0), x2-x1) / grids_width * N) + 1\n",
    "        l_row = np.floor(min(max(l_hand_y - y1, 0), y2-y1) * N) + 1\n",
    "        r_row = np.floor(min(max(r_hand_y - y1, 0), y2-y1) * N) + 1\n",
    "\n",
    "        l_label = int((l_row - 1)*N + l_col)\n",
    "        r_label = int((r_row - 1)*N + r_col)\n",
    "        label = (l_label - 1)*N*N + r_label\n",
    "\n",
    "        # Filter the labels that are out of the range\n",
    "        if (l_label >= 1 and l_label <= N*N) and (r_label >= 1 and r_label <= N*N) and (label >= 1 and label <= N*N*N*N):\n",
    "            results.append((frame_idx, l_label, r_label, label))\n",
    "        else:\n",
    "            results.append((frame_idx, None, None, None))\n",
    "\n",
    "    if return_grids:\n",
    "        assert len(results) == len(grids)\n",
    "    if return_type == 'list':\n",
    "        if return_grids:\n",
    "            return results, grids\n",
    "        else:\n",
    "            return results\n",
    "    elif return_type == 'df':\n",
    "        results_cleaned = list(filter(lambda x: x[1] != None, results))\n",
    "        data = np.array(results_cleaned, dtype=[('frame_idx', 'i4'), ('l_label', 'i4'), ('r_label', 'i4'), ('label', 'i4')])\n",
    "        df = pd.DataFrame.from_records(data)\n",
    "        if return_grids:\n",
    "            return df, grids\n",
    "        else:\n",
    "            return df\n"
   ],
   "metadata": {
    "collapsed": false
   }
  },
  {
   "cell_type": "code",
   "execution_count": 9,
   "outputs": [
    {
     "name": "stdout",
     "output_type": "stream",
     "text": [
      "10631\n",
      "<class 'tuple'>\n",
      "2\n",
      "[<class 'int'>, <class 'numpy.ndarray'>]\n"
     ]
    }
   ],
   "source": [
    "# Load keypoints data for testing\n",
    "kp_file = '1FYADI0rSCc.pkl'\n",
    "with open(kp_file, 'rb') as f:\n",
    "    kp_data = pickle.load(f)\n",
    "\n",
    "print(len(kp_data))\n",
    "print(type(kp_data[0]))\n",
    "print(len(kp_data[0]))\n",
    "print(list(map(type, kp_data[0])))"
   ],
   "metadata": {
    "collapsed": false
   }
  },
  {
   "cell_type": "code",
   "execution_count": 13,
   "outputs": [
    {
     "name": "stdout",
     "output_type": "stream",
     "text": [
      "81\n",
      "1\n"
     ]
    }
   ],
   "source": [
    "df = get_labels(kp_data, return_type='df')\n",
    "print(max(df['label']))\n",
    "print(min(df['label']))"
   ],
   "metadata": {
    "collapsed": false
   }
  },
  {
   "cell_type": "code",
   "execution_count": 15,
   "outputs": [
    {
     "data": {
      "text/plain": "array([[ 0.51772863,  0.26019549, -0.3459377 ],\n       [ 0.52931899,  0.20547014, -0.323264  ],\n       [ 0.5405513 ,  0.20125471, -0.32332459],\n       [ 0.54862118,  0.19822794, -0.32326761],\n       [ 0.49627286,  0.21791254, -0.31958356],\n       [ 0.48759741,  0.22288306, -0.31954843],\n       [ 0.48062468,  0.22886366, -0.3199102 ],\n       [ 0.56738573,  0.21134423, -0.16489023],\n       [ 0.47452125,  0.25545484, -0.14034304],\n       [ 0.54495466,  0.30404788, -0.28497794],\n       [ 0.50603056,  0.31791252, -0.27835807],\n       [ 0.67660141,  0.48135298, -0.05196721],\n       [ 0.43467182,  0.50961423, -0.06757601],\n       [ 0.74118978,  0.73173457, -0.10129409],\n       [ 0.36590484,  0.79860914, -0.20265391],\n       [ 0.76259792,  0.81234944, -0.43712729],\n       [ 0.39123148,  0.91132933, -0.6221174 ],\n       [ 0.7870152 ,  0.87686443, -0.51381725],\n       [ 0.40723735,  0.9578681 , -0.69321555],\n       [ 0.76200616,  0.8670181 , -0.53664333],\n       [ 0.42895013,  0.91248846, -0.71108514],\n       [ 0.75015664,  0.84883273, -0.45224828],\n       [ 0.42929536,  0.89372438, -0.63549995],\n       [ 0.64241421,  1.00159812,  0.01362815],\n       [ 0.49619085,  1.00633287, -0.01157023],\n       [ 0.65754235,  1.39857173, -0.12771243],\n       [ 0.49469489,  1.43298554,  0.17174695],\n       [ 0.65942484,  1.73996747,  0.13677658],\n       [ 0.51128358,  1.76857352,  0.48228908],\n       [ 0.6657337 ,  1.7978543 ,  0.15161175],\n       [ 0.5095889 ,  1.82926893,  0.50548351],\n       [ 0.63546556,  1.88253736, -0.08125196],\n       [ 0.54277885,  1.89329815,  0.28671357]])"
     },
     "execution_count": 15,
     "metadata": {},
     "output_type": "execute_result"
    }
   ],
   "source": [
    "kp_data[0][1]"
   ],
   "metadata": {
    "collapsed": false
   }
  },
  {
   "cell_type": "code",
   "execution_count": 21,
   "outputs": [
    {
     "name": "stdout",
     "output_type": "stream",
     "text": [
      "100000\n",
      "(33, 3)\n"
     ]
    }
   ],
   "source": [
    "# Generate N samples for testing,\n",
    "# Each sample is a numpy array of shape (33,3), and the range of each element is from a normal distribution with mean 0.5 and std 1\n",
    "n_samples = 100000\n",
    "samples = np.random.normal(0.5, 1, (n_samples, 33, 3))\n",
    "samples_list = [(i, samples[i]) for i in range(n_samples)]\n",
    "print(len(samples_list))\n",
    "print(samples_list[0][1].shape)"
   ],
   "metadata": {
    "collapsed": false
   }
  },
  {
   "cell_type": "code",
   "execution_count": 28,
   "outputs": [
    {
     "name": "stdout",
     "output_type": "stream",
     "text": [
      "3\n",
      "1\n",
      "0\n",
      "0\n"
     ]
    }
   ],
   "source": [
    "df_samples = get_labels(samples_list, return_type='df')\n",
    "print(max(df_samples['label']))\n",
    "print(min(df_samples['label']))\n",
    "\n",
    "# number of rows in df where label > 81 or label < 1\n",
    "print(len(df_samples[(df_samples['label'] > 81) | (df_samples['label'] < 1)]))\n",
    "\n",
    "# number of rows in df where l_label > 9 or l_label < 1\n",
    "print(len(df_samples[(df_samples['l_label'] > 9) | (df_samples['l_label'] < 1)]))"
   ],
   "metadata": {
    "collapsed": false
   }
  },
  {
   "cell_type": "code",
   "execution_count": 29,
   "outputs": [
    {
     "data": {
      "text/plain": "Empty DataFrame\nColumns: [frame_idx, l_label, r_label, label]\nIndex: []",
      "text/html": "<div>\n<style scoped>\n    .dataframe tbody tr th:only-of-type {\n        vertical-align: middle;\n    }\n\n    .dataframe tbody tr th {\n        vertical-align: top;\n    }\n\n    .dataframe thead th {\n        text-align: right;\n    }\n</style>\n<table border=\"1\" class=\"dataframe\">\n  <thead>\n    <tr style=\"text-align: right;\">\n      <th></th>\n      <th>frame_idx</th>\n      <th>l_label</th>\n      <th>r_label</th>\n      <th>label</th>\n    </tr>\n  </thead>\n  <tbody>\n  </tbody>\n</table>\n</div>"
     },
     "execution_count": 29,
     "metadata": {},
     "output_type": "execute_result"
    }
   ],
   "source": [
    "df_samples[(df_samples['label'] > 81) | (df_samples['label'] < 1)]"
   ],
   "metadata": {
    "collapsed": false
   }
  },
  {
   "cell_type": "code",
   "execution_count": 30,
   "outputs": [
    {
     "data": {
      "text/plain": "       frame_idx  l_label  r_label  label\n0              3        1        1      1\n1             10        1        1      1\n2             13        1        1      1\n3             20        1        1      1\n4             30        1        3      3\n...          ...      ...      ...    ...\n10947      99948        1        1      1\n10948      99952        1        1      1\n10949      99960        1        1      1\n10950      99967        1        1      1\n10951      99977        1        1      1\n\n[10952 rows x 4 columns]",
      "text/html": "<div>\n<style scoped>\n    .dataframe tbody tr th:only-of-type {\n        vertical-align: middle;\n    }\n\n    .dataframe tbody tr th {\n        vertical-align: top;\n    }\n\n    .dataframe thead th {\n        text-align: right;\n    }\n</style>\n<table border=\"1\" class=\"dataframe\">\n  <thead>\n    <tr style=\"text-align: right;\">\n      <th></th>\n      <th>frame_idx</th>\n      <th>l_label</th>\n      <th>r_label</th>\n      <th>label</th>\n    </tr>\n  </thead>\n  <tbody>\n    <tr>\n      <th>0</th>\n      <td>3</td>\n      <td>1</td>\n      <td>1</td>\n      <td>1</td>\n    </tr>\n    <tr>\n      <th>1</th>\n      <td>10</td>\n      <td>1</td>\n      <td>1</td>\n      <td>1</td>\n    </tr>\n    <tr>\n      <th>2</th>\n      <td>13</td>\n      <td>1</td>\n      <td>1</td>\n      <td>1</td>\n    </tr>\n    <tr>\n      <th>3</th>\n      <td>20</td>\n      <td>1</td>\n      <td>1</td>\n      <td>1</td>\n    </tr>\n    <tr>\n      <th>4</th>\n      <td>30</td>\n      <td>1</td>\n      <td>3</td>\n      <td>3</td>\n    </tr>\n    <tr>\n      <th>...</th>\n      <td>...</td>\n      <td>...</td>\n      <td>...</td>\n      <td>...</td>\n    </tr>\n    <tr>\n      <th>10947</th>\n      <td>99948</td>\n      <td>1</td>\n      <td>1</td>\n      <td>1</td>\n    </tr>\n    <tr>\n      <th>10948</th>\n      <td>99952</td>\n      <td>1</td>\n      <td>1</td>\n      <td>1</td>\n    </tr>\n    <tr>\n      <th>10949</th>\n      <td>99960</td>\n      <td>1</td>\n      <td>1</td>\n      <td>1</td>\n    </tr>\n    <tr>\n      <th>10950</th>\n      <td>99967</td>\n      <td>1</td>\n      <td>1</td>\n      <td>1</td>\n    </tr>\n    <tr>\n      <th>10951</th>\n      <td>99977</td>\n      <td>1</td>\n      <td>1</td>\n      <td>1</td>\n    </tr>\n  </tbody>\n</table>\n<p>10952 rows × 4 columns</p>\n</div>"
     },
     "execution_count": 30,
     "metadata": {},
     "output_type": "execute_result"
    }
   ],
   "source": [
    "df_samples"
   ],
   "metadata": {
    "collapsed": false
   }
  },
  {
   "cell_type": "code",
   "execution_count": 43,
   "outputs": [
    {
     "data": {
      "text/plain": "  0%|          | 0/71 [00:00<?, ?it/s]",
      "application/vnd.jupyter.widget-view+json": {
       "version_major": 2,
       "version_minor": 0,
       "model_id": "d0bdc1634aaf4f3eb1eea1e7fc1c42a0"
      }
     },
     "metadata": {},
     "output_type": "display_data"
    },
    {
     "name": "stdout",
     "output_type": "stream",
     "text": [
      "81\n",
      "1\n"
     ]
    }
   ],
   "source": [
    "# Test all key points files\n",
    "kp_files = glob.glob('../data/videos_kp/*.pkl')\n",
    "\n",
    "df_list = []\n",
    "for kp_file in notebook.tqdm(kp_files):\n",
    "    with open(kp_file, 'rb') as f:\n",
    "        kp_data = pickle.load(f)\n",
    "    df = get_labels(kp_data, return_type='df')\n",
    "    df_list.append(df)\n",
    "    # print(kp_file)\n",
    "    # print(max(df['label']))\n",
    "    # print(min(df['label']))\n",
    "    # print(len(df[(df['label'] > 81) | (df['label'] < 1)]))\n",
    "    # print(len(df[(df['l_label'] > 9) | (df['l_label'] < 1)]))\n",
    "    # print(len(df[(df['r_label'] > 9) | (df['r_label'] < 1)]))\n",
    "    # print()\n",
    "df_all = pd.concat(df_list)\n",
    "print(max(df_all['label']))\n",
    "print(min(df_all['label']))"
   ],
   "metadata": {
    "collapsed": false
   }
  },
  {
   "cell_type": "code",
   "execution_count": 34,
   "outputs": [
    {
     "data": {
      "text/plain": "   frame_idx  l_label  r_label  label\n0        179        1        2      2\n1       2745        1        1      1\n2       3240        1        1      1\n3       3639        1        1      1\n4       3640        1        1      1\n5       3641        1        1      1\n6       3642        1        1      1\n7       3643        1        1      1\n8       3644        1        1      1\n9       3645        1        1      1",
      "text/html": "<div>\n<style scoped>\n    .dataframe tbody tr th:only-of-type {\n        vertical-align: middle;\n    }\n\n    .dataframe tbody tr th {\n        vertical-align: top;\n    }\n\n    .dataframe thead th {\n        text-align: right;\n    }\n</style>\n<table border=\"1\" class=\"dataframe\">\n  <thead>\n    <tr style=\"text-align: right;\">\n      <th></th>\n      <th>frame_idx</th>\n      <th>l_label</th>\n      <th>r_label</th>\n      <th>label</th>\n    </tr>\n  </thead>\n  <tbody>\n    <tr>\n      <th>0</th>\n      <td>179</td>\n      <td>1</td>\n      <td>2</td>\n      <td>2</td>\n    </tr>\n    <tr>\n      <th>1</th>\n      <td>2745</td>\n      <td>1</td>\n      <td>1</td>\n      <td>1</td>\n    </tr>\n    <tr>\n      <th>2</th>\n      <td>3240</td>\n      <td>1</td>\n      <td>1</td>\n      <td>1</td>\n    </tr>\n    <tr>\n      <th>3</th>\n      <td>3639</td>\n      <td>1</td>\n      <td>1</td>\n      <td>1</td>\n    </tr>\n    <tr>\n      <th>4</th>\n      <td>3640</td>\n      <td>1</td>\n      <td>1</td>\n      <td>1</td>\n    </tr>\n    <tr>\n      <th>5</th>\n      <td>3641</td>\n      <td>1</td>\n      <td>1</td>\n      <td>1</td>\n    </tr>\n    <tr>\n      <th>6</th>\n      <td>3642</td>\n      <td>1</td>\n      <td>1</td>\n      <td>1</td>\n    </tr>\n    <tr>\n      <th>7</th>\n      <td>3643</td>\n      <td>1</td>\n      <td>1</td>\n      <td>1</td>\n    </tr>\n    <tr>\n      <th>8</th>\n      <td>3644</td>\n      <td>1</td>\n      <td>1</td>\n      <td>1</td>\n    </tr>\n    <tr>\n      <th>9</th>\n      <td>3645</td>\n      <td>1</td>\n      <td>1</td>\n      <td>1</td>\n    </tr>\n  </tbody>\n</table>\n</div>"
     },
     "execution_count": 34,
     "metadata": {},
     "output_type": "execute_result"
    }
   ],
   "source": [
    "df_all.head(10)"
   ],
   "metadata": {
    "collapsed": false
   }
  },
  {
   "cell_type": "code",
   "execution_count": 44,
   "outputs": [
    {
     "name": "stdout",
     "output_type": "stream",
     "text": [
      "0\n"
     ]
    },
    {
     "data": {
      "text/plain": "Empty DataFrame\nColumns: [frame_idx, l_label, r_label, label]\nIndex: []",
      "text/html": "<div>\n<style scoped>\n    .dataframe tbody tr th:only-of-type {\n        vertical-align: middle;\n    }\n\n    .dataframe tbody tr th {\n        vertical-align: top;\n    }\n\n    .dataframe thead th {\n        text-align: right;\n    }\n</style>\n<table border=\"1\" class=\"dataframe\">\n  <thead>\n    <tr style=\"text-align: right;\">\n      <th></th>\n      <th>frame_idx</th>\n      <th>l_label</th>\n      <th>r_label</th>\n      <th>label</th>\n    </tr>\n  </thead>\n  <tbody>\n  </tbody>\n</table>\n</div>"
     },
     "execution_count": 44,
     "metadata": {},
     "output_type": "execute_result"
    }
   ],
   "source": [
    "print(len(df_all[(df_all['label'] > 81) | (df_all['label'] < 1)]))\n",
    "df_all[(df_all['label'] > 81) | (df_all['label'] < 1)]"
   ],
   "metadata": {
    "collapsed": false
   }
  },
  {
   "cell_type": "code",
   "execution_count": 40,
   "outputs": [
    {
     "name": "stdout",
     "output_type": "stream",
     "text": [
      "728\n"
     ]
    }
   ],
   "source": [
    "print(len(df_all[(df_all['l_label'] > 9) | (df_all['l_label'] < 1)]))"
   ],
   "metadata": {
    "collapsed": false
   }
  },
  {
   "cell_type": "code",
   "execution_count": 41,
   "outputs": [
    {
     "name": "stdout",
     "output_type": "stream",
     "text": [
      "728\n"
     ]
    }
   ],
   "source": [
    "print(len(df_all[(df_all['r_label'] > 9) | (df_all['r_label'] < 1)]))"
   ],
   "metadata": {
    "collapsed": false
   }
  }
 ],
 "metadata": {
  "kernelspec": {
   "display_name": "Python 3",
   "language": "python",
   "name": "python3"
  },
  "language_info": {
   "codemirror_mode": {
    "name": "ipython",
    "version": 2
   },
   "file_extension": ".py",
   "mimetype": "text/x-python",
   "name": "python",
   "nbconvert_exporter": "python",
   "pygments_lexer": "ipython2",
   "version": "2.7.6"
  }
 },
 "nbformat": 4,
 "nbformat_minor": 0
}
