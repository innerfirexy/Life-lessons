{
 "cells": [
  {
   "cell_type": "code",
   "execution_count": 1,
   "metadata": {},
   "outputs": [],
   "source": [
    "import webvtt"
   ]
  },
  {
   "cell_type": "code",
   "execution_count": 13,
   "metadata": {},
   "outputs": [
    {
     "name": "stdout",
     "output_type": "stream",
     "text": [
      "51\n",
      "51\n",
      "00:00:00.680 00:00:03.389 do you need to be good-looking be an actor?\n",
      "00:00:00.680 00:00:03.389\n"
     ]
    }
   ],
   "source": [
    "# Some vtt files do not contain full time stamp information for each word token\n",
    "# In these case, need to come up with an estimated time span for each word, by \n",
    "# dividing the elapse time of the entire sentence evenly\n",
    "\n",
    "# For instance, `data/raw_videos/3EfyAzayxqQ.en.vtt` looks like the following:\n",
    "# ...\n",
    "# 00:00:00.680 --> 00:00:03.389\n",
    "# do you need to be good-looking be an actor?\n",
    "\n",
    "# 00:00:03.389 --> 00:00:08.410\n",
    "# yes. thanks for watching. what? come on\n",
    "# ...\n",
    "\n",
    "# 1. Need to have a simple tokenizer that recognizes the period (.), comma (,), question mark (?), and exclamation (!)\n",
    "\n",
    "vtt = webvtt.read('../data/raw_videos/3EfyAzayxqQ.en.vtt')\n",
    "\n",
    "print(len(vtt))\n",
    "print(len(vtt.captions))\n",
    "\n",
    "print(vtt.captions[0])\n",
    "print(vtt.captions[0].start, vtt.captions[0].end)"
   ]
  },
  {
   "cell_type": "code",
   "execution_count": null,
   "metadata": {},
   "outputs": [],
   "source": []
  }
 ],
 "metadata": {
  "kernelspec": {
   "display_name": "Python 3",
   "language": "python",
   "name": "python3"
  },
  "language_info": {
   "codemirror_mode": {
    "name": "ipython",
    "version": 3
   },
   "file_extension": ".py",
   "mimetype": "text/x-python",
   "name": "python",
   "nbconvert_exporter": "python",
   "pygments_lexer": "ipython3",
   "version": "3.9.14"
  },
  "orig_nbformat": 4,
  "vscode": {
   "interpreter": {
    "hash": "44806c3c24a59c3d08d4560719a0471ba0aaf028140eb86c3aa3632057267068"
   }
  }
 },
 "nbformat": 4,
 "nbformat_minor": 2
}
