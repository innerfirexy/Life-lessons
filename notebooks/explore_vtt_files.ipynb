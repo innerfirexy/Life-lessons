{
 "cells": [
  {
   "cell_type": "code",
   "execution_count": 11,
   "metadata": {},
   "outputs": [],
   "source": [
    "import webvtt\n",
    "from datetime import datetime\n",
    "from typing import List, Tuple\n",
    "import re"
   ]
  },
  {
   "cell_type": "code",
   "execution_count": 15,
   "metadata": {},
   "outputs": [
    {
     "name": "stdout",
     "output_type": "stream",
     "text": [
      "351\n",
      "351\n",
      "<class 'webvtt.structures.Caption'>\n",
      "00:00:00.000 00:00:01.589  \\nwhat's up my fellow actors kurt you here\n",
      " \n",
      "what's up my fellow actors kurt you here\n",
      "00:00:00.000 00:00:01.589\n",
      "[' ', \"what's<00:00:00.160><c> up</c><00:00:00.240><c> my</c><00:00:00.320><c> fellow</c><00:00:00.640><c> actors</c><00:00:00.960><c> kurt</c><00:00:01.199><c> you</c><00:00:01.360><c> here</c>\"]\n",
      "0\n"
     ]
    }
   ],
   "source": [
    "# Some vtt files do not contain full time stamp information for each word token\n",
    "# In these case, need to come up with an estimated time span for each word, by \n",
    "# dividing the elapse time of the entire sentence evenly\n",
    "\n",
    "# For instance, `data/raw_videos/3EfyAzayxqQ.en.vtt` looks like the following:\n",
    "# ...\n",
    "# 00:00:00.680 --> 00:00:03.389\n",
    "# do you need to be good-looking be an actor?\n",
    "\n",
    "# 00:00:03.389 --> 00:00:08.410\n",
    "# yes. thanks for watching. what? come on\n",
    "# ...\n",
    "\n",
    "# 1. Need to have a simple tokenizer that recognizes the period (.), comma (,), question mark (?), and exclamation (!)\n",
    "\n",
    "# vtt = webvtt.read('../data/raw_videos/3EfyAzayxqQ.en.vtt')\n",
    "vtt = webvtt.read('../data/raw_videos/91_5g9fTGKM.en.vtt')\n",
    "\n",
    "print(len(vtt))\n",
    "print(len(vtt.captions))\n",
    "\n",
    "print(type(vtt.captions[0]))\n",
    "\n",
    "print(vtt.captions[0])\n",
    "print(vtt.captions[0].text)\n",
    "print(vtt.captions[0].start, vtt.captions[0].end)\n",
    "\n",
    "print(vtt.captions[0].lines)\n",
    "\n",
    "full_text = ''\n",
    "for i in range(len(vtt.captions)):\n",
    "    full_text += ' '.join(vtt.captions[i].lines)\n",
    "# print(full_text)\n",
    "# full_text = 'sfadfd'\n",
    "match = re.findall('<(.+?)>', full_text)\n",
    "print(len(match))"
   ]
  },
  {
   "cell_type": "code",
   "execution_count": 4,
   "metadata": {},
   "outputs": [],
   "source": [
    "def str_to_float(time_str: str):\n",
    "    \"\"\"\n",
    "    :param time_str:\n",
    "    :return: the amount of time measured in seconds\n",
    "    \"\"\"\n",
    "    ms = datetime.strptime(time_str, \"%H:%M:%S.%f\").microsecond\n",
    "    s = datetime.strptime(time_str, \"%H:%M:%S.%f\").second\n",
    "    m = datetime.strptime(time_str, \"%H:%M:%S.%f\").minute\n",
    "    h = datetime.strptime(time_str, \"%H:%M:%S.%f\").hour\n",
    "    return ms/1e6 + s + m*60 + h*3600"
   ]
  },
  {
   "cell_type": "code",
   "execution_count": 7,
   "outputs": [
    {
     "name": "stdout",
     "output_type": "stream",
     "text": [
      "0.68\n",
      "3.3890000000000002\n",
      "182.39\n",
      "185.91\n"
     ]
    }
   ],
   "source": [
    "print(str_to_float(vtt.captions[0].start))\n",
    "print(str_to_float(vtt.captions[0].end))\n",
    "\n",
    "print(str_to_float(vtt.captions[-1].start))\n",
    "print(str_to_float(vtt.captions[-1].end))"
   ],
   "metadata": {
    "collapsed": false
   }
  },
  {
   "cell_type": "code",
   "execution_count": 20,
   "outputs": [],
   "source": [
    "def get_average_timespans(line: str, start: float, end: float):\n",
    "    words = line.strip().split(' ')\n",
    "    words = [w for w in words if w]\n",
    "    # clean each word token that contain punctuations\n",
    "    def _clean_word(word: str) -> str:\n",
    "        if word.endswith('.') or word.endswith(',') or word.endswith('?') or word.endswith('!'):\n",
    "            return word[:-1]\n",
    "        else:\n",
    "            return word\n",
    "    words = list(map(_clean_word, words))\n",
    "\n",
    "    if len(words) == 0:\n",
    "        return None, None\n",
    "    elif len(words) == 1:\n",
    "        return words, [(start, end)]\n",
    "    else:\n",
    "        avg_span = (end - start) / len(words)\n",
    "        time_spans = []\n",
    "        for i in range(len(words)):\n",
    "            time_spans.append((i*avg_span + start, (i+1)*avg_span + start))\n",
    "        return words, time_spans"
   ],
   "metadata": {
    "collapsed": false
   }
  },
  {
   "cell_type": "code",
   "execution_count": 21,
   "outputs": [
    {
     "name": "stdout",
     "output_type": "stream",
     "text": [
      "['do', 'you', 'need', 'to', 'be', 'good-looking', 'be', 'an', 'actor']\n",
      "[(0.68, 0.9810000000000001), (0.9810000000000001, 1.282), (1.282, 1.5830000000000002), (1.5830000000000002, 1.884), (1.884, 2.185), (2.185, 2.486), (2.486, 2.787), (2.787, 3.088), (3.088, 3.3890000000000002)]\n"
     ]
    }
   ],
   "source": [
    "words, time_spans = get_average_timespans(vtt.captions[0].text, str_to_float(vtt.captions[0].start), str_to_float(vtt.captions[0].end))\n",
    "print(words)\n",
    "print(time_spans)"
   ],
   "metadata": {
    "collapsed": false
   }
  },
  {
   "cell_type": "code",
   "execution_count": null,
   "outputs": [],
   "source": [],
   "metadata": {
    "collapsed": false
   }
  }
 ],
 "metadata": {
  "kernelspec": {
   "display_name": "Python 3",
   "language": "python",
   "name": "python3"
  },
  "language_info": {
   "codemirror_mode": {
    "name": "ipython",
    "version": 3
   },
   "file_extension": ".py",
   "mimetype": "text/x-python",
   "name": "python",
   "nbconvert_exporter": "python",
   "pygments_lexer": "ipython3",
   "version": "3.9.14 (main, Oct 19 2022, 14:00:15) \n[Clang 14.0.0 (clang-1400.0.29.102)]"
  },
  "orig_nbformat": 4,
  "vscode": {
   "interpreter": {
    "hash": "44806c3c24a59c3d08d4560719a0471ba0aaf028140eb86c3aa3632057267068"
   }
  }
 },
 "nbformat": 4,
 "nbformat_minor": 2
}
